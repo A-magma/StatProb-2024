import pandas as pd
dataset = pd.read_excel('Dataset.xlsx')
dataset.to_csv('Dataset.csv', index=False)

from google.colab import files
uploaded = files.upload()

import pandas as pd
df = pd.read_csv('Dataset.csv')
print(df.head())

df.describe()

import numpy as np
from scipy import stats

#Deskirpsi Statistik (mean, median, modus, range, IQR, varian, standar deviasi, skewness, kurtosis)

data1 = df['Penjualan A (pcs)']
data2 = df['Penjualan B (pcs)']
data3 = df['Curah Hujan (mm)']

mean1 = np.mean(data1)
mean2 = np.mean(data2)
mean3 = np.mean(data3)

median1 = np.median(data1)
median2 = np.median(data2)
median3 = np.median(data3)

mode1 = stats.mode(data1)
mode2 = stats.mode(data2)
mode3 = stats.mode(data3)

range1 = np.max(data1) - np.min(data1)
range2 = np.max(data2) - np.min(data2)
range3 = np.max(data3) - np.min(data3)

IQR1 = np.percentile(data1, 75) - np.percentile(data1, 25)
IQR2 = np.percentile(data2, 75) - np.percentile(data2, 25)
IQR3 = np.percentile(data3, 75) - np.percentile(data3, 25)

Varian1 = np.var(data1)
Varian2 = np.var(data2)
Varian3 = np.var(data3)

StandarDeviasi1 = np.std(data1)
StandarDeviasi2 = np.std(data2)
StandarDeviasi3 = np.std(data3)

Skewness1 = stats.skew(data1)
Skewness2 = stats.skew(data2)
Skewness3 = stats.skew(data3)

Kurtosis1 = stats.kurtosis(data1)
Kurtosis2 = stats.kurtosis(data2)
Kurtosis3 = stats.kurtosis(data3)

print('Rata-Rata Penjualan A (pcs): ', mean1)
print('Rata-Rata Penjualan B (pcs): ', mean2)
print('Rata-Rata Curah Hujan (mm): ', mean3)

print('Median Penjualan A (pcs) :', median1)
print('Median Penjualan B (pcs): ', median2)
print('Median Curah Hujan (mm): ', median3)

print('Mode Penjualan A (pcs): ', mode1)
print('Mode Penjualan B (pcs): ', mode2)
print('Mode Curah Hujan (mm): ', mode3)


print('Range Penjualan A (pcs): ', range1)
print('Range Penjualan B (pcs): ', range2)
print('Range Curah Hujan (mm): ', range3)

print('IQR Penjualan A (pcs): ', IQR1)
print('IQR Penjualan B (pcs): ', IQR2)
print('IQR Curah Hujan (mm): ', IQR3)

print('varian Penjualan A (pcs): ', Varian1)
print('Varian Penjualan B (pcs): ', Varian2)
print('Varian Curah Hujan (mm): ', Varian3)

print('Standar Deviasi Penjualan A (pcs): ', StandarDeviasi1)
print('Standar Deviasi Penjualan B (pcs): ', StandarDeviasi2)
print('Standar Deviasi Curah Hujan (mm): ', StandarDeviasi3)

print('Skewness Penjualan A (pcs): ', Skewness1)
print('Skewness Penjualan B (pcs): ', Skewness2)
print('Skewness Curah Hujan (mm): ', Skewness3)

print('Kurtosis Penjualan A (pcs): ', Kurtosis1)
print('Kurtosis Penjualan B (pcs): ', Kurtosis2)
print('Kurtosis Curah Hujan (mm): ', Kurtosis3)

#Visualisasi (Frekuensi)

num_bins_A = int(np.ceil(1 + np.log2(len(data['Penjualan A']))))
num_bins_B = int(np.ceil(1 + np.log2(len(data['Penjualan B']))))
num_bins_H = int(np.ceil(1 + np.log2(len(data['Curah Hujan']))))

data['frekuensi A'], bin_edges_A = pd.cut(data['Penjualan A'], bins=num_bins_A, retbins=True)
tabel_frekuensi_A = data['frekuensi A'].value_counts().sort_index()

data['frekuensi B'], bin_edges_B = pd.cut(data['Penjualan B'], bins=num_bins_B, retbins=True)
tabel_frekuensi_B = data['frekuensi B'].value_counts().sort_index()

data['frekuensi H'], bin_edges_H = pd.cut(data['Curah Hujan'], bins=num_bins_H, retbins=True)
tabel_frekuensi_H = data['frekuensi H'].value_counts().sort_index()

print("Tabel Distribusi Frekuensi Penjualan A:")
print(pd.DataFrame({'Interval': tabel_frekuensi_A.index, 'Frekuensi': tabel_frekuensi_A.values}))
print("\nTabel Distribusi Frekuensi Penjualan B:")
print(pd.DataFrame({'Interval': tabel_frekuensi_B.index, 'Frekuensi': tabel_frekuensi_B.values}))
print("\nTabel Distribusi Frekuensi Curah Hujan:")
print(pd.DataFrame({'Interval': tabel_frekuensi_H.index, 'Frekuensi': tabel_frekuensi_H.values}))

#Visualisasi (Histogram)

plt.figure(figsize=(8,6))
sns.histplot(data['Penjualan A'], bins=num_bins_A, kde=False)
plt.title('Histogram Distribusi Penjualan A')
plt.xlabel('Penjualan A (pcs)')
plt.ylabel('Frekuensi')
plt.grid(True)
plt.show()

plt.figure(figsize=(8,6))
sns.histplot(data['Penjualan B'], bins=num_bins_B, kde=False)
plt.title('Histogram Distribusi Penjualan B')
plt.xlabel('Penjualan B (pcs)')
plt.ylabel('Frekuensi')
plt.grid(True)
plt.show()

plt.figure(figsize=(8,6))
sns.histplot(data['Curah Hujan'], bins=num_bins_H, kde=False)
plt.title('Histogram Distribusi Curah Hujan')
plt.xlabel('Curah Hujan (mm)')
plt.ylabel('Frekuensi')
plt.grid(True)
plt.show()

#Visualisasi (Poligon Frekuensi)

bin_centers_A = (bin_edges_A[:-1] + bin_edges_A[1:]) / 2
bin_centers_B = (bin_edges_B[:-1] + bin_edges_B[1:]) / 2
bin_centers_H = (bin_edges_H[:-1] + bin_edges_H[1:]) / 2

plt.figure(figsize=(8,6))
plt.plot(bin_centers_A, tabel_frekuensi_A.values, marker='o', linestyle='-', color='b')
plt.title('Poligon Frekuensi Penjualan A')
plt.xlabel('Penjualan A (pcs)')
plt.ylabel('Frekuensi')
plt.grid(True)
plt.show()

plt.figure(figsize=(8,6))
plt.plot(bin_centers_B, tabel_frekuensi_B.values, marker='o', linestyle='-', color='g')
plt.title('Poligon Frekuensi Penjualan B')
plt.xlabel('Penjualan B (pcs)')
plt.ylabel('Frekuensi')
plt.grid(True)
plt.show()

plt.figure(figsize=(8,6))
plt.plot(bin_centers_H, tabel_frekuensi_H.values, marker='o', linestyle='-', color='r')
plt.title('Poligon Frekuensi Curah Hujan')
plt.xlabel('Curah Hujan (mm)')
plt.ylabel('Frekuensi')
plt.grid(True)
plt.show()

#Boxplot

plt.figure(figsize=(10,6))
sns.boxplot(data=data)
plt.title('Boxplot Penjualan A, Penjualan B, dan Curah Hujan')
plt.grid(True)
plt.show()
